{
 "cells": [
  {
   "cell_type": "code",
   "execution_count": 31,
   "id": "ce6295fc-0c0b-4c52-ae01-da5068c027b7",
   "metadata": {},
   "outputs": [
    {
     "name": "stdout",
     "output_type": "stream",
     "text": [
      "1267650600228229401496703205375\n"
     ]
    }
   ],
   "source": [
    "# 問題１\n",
    "kome = 0\n",
    "kome_per_day = []　　# 1日あたりに貰える米粒\n",
    "kome_accumulation = [] # 貰える米粒の累積数\n",
    "for i in range(0, 100):\n",
    "    kome = kome + 2 ** i　\n",
    "    kome_per_day.append(2**i)　　\n",
    "    kome_accumulation.append(kome)　　\n",
    "\n",
    "print(kome)"
   ]
  },
  {
   "cell_type": "code",
   "execution_count": 32,
   "id": "9c046c3e-ea10-4548-b254-5a9c1b9ae8d5",
   "metadata": {},
   "outputs": [
    {
     "data": {
      "image/png": "[encoded data removed]",
      "text/plain": [
       "<Figure size 640x480 with 1 Axes>"
      ]
     },
     "metadata": {},
     "output_type": "display_data"
    }
   ],
   "source": [
    "import numpy as np\n",
    "import matplotlib.pyplot as plt\n",
    "\n",
    "fig, ax = plt.subplots()\n",
    "\n",
    "x1 = np.arange(1, 101)\n",
    "y1 = kome_per_day\n",
    "x2 = np.arange(1, 101)\n",
    "y2 = kome_accumulation\n",
    "\n",
    "ax.set_xlabel('day')   # x軸ラベル\n",
    "ax.set_ylabel('kome')  # y軸ラベル\n",
    "ax.set_title('kome_volume_transition') # グラフタイトル\n",
    "\n",
    "ax.plot(x1, y1, color=\"red\", label=\"kome/day\")\n",
    "ax.plot(x2, y2, color=\"blue\", label=\"kome_sum\")\n",
    "ax.legend(loc=0) \n",
    "\n",
    "plt.show()"
   ]
  },
  {
   "cell_type": "code",
   "execution_count": 39,
   "id": "1851b4d3-5905-4fff-a72f-1251d04482b9",
   "metadata": {},
   "outputs": [
    {
     "name": "stdout",
     "output_type": "stream",
     "text": [
      "[1, 2, 4, 8, 16, 32, 64, 128, 256, 512]\n",
      "[   1    3    7   15   31   63  127  255  511 1023]\n"
     ]
    }
   ],
   "source": [
    "# 問題２\n",
    "\n",
    "import numpy as np\n",
    "\n",
    "def compute_sorori_shinzaemon(n_days=100):\n",
    "    \n",
    "    \"\"\"曽呂利新左衛門の米の逸話における、日にちごとの米の粒の数を計算する関数。\n",
    "     Parameteres\n",
    "    -----------\n",
    "    n_days: int\n",
    "        米を貰う日数 (default : 100)\n",
    "\n",
    "    Returns\n",
    "    -------\n",
    "    list_n_grains : list\n",
    "        ある日に貰う米の数のリスト \n",
    "    list_total_grains : list\n",
    "        ある日までに累計で貰う米の数のリスト \n",
    "    \"\"\"\n",
    "    \n",
    "    list_n_grains = [2**i for i in range(0, n_days)]\n",
    "    \n",
    "    list_total_grains = np.cumsum(list_n_grains)\n",
    "    \n",
    "    return list_n_grains, list_total_grains\n",
    "\n",
    "    pass\n",
    "\n",
    "list_n_grains, list_total_grains = compute_sorori_shinzaemon(10)\n",
    "\n",
    "print(list_n_grains)\n",
    "print(list_total_grains)"
   ]
  },
  {
   "cell_type": "markdown",
   "id": "3f9d3aaf-41a7-4e94-bc90-24ea968b17f0",
   "metadata": {},
   "source": [
    "### 【問題３】\n",
    "\n",
    "- 大人1人が1日に食べる米の推定量：約10,000粒（約1.5合）と仮定　※お米屋さんのブログより1合あたりの米粒数情報を元に推定量とした。\n",
    "- クラスの人数を30名と仮定。　※実際のクラスはないので学校のクラス人数をイメージして設定。"
   ]
  },
  {
   "cell_type": "code",
   "execution_count": 62,
   "id": "31124599-e8ea-4dec-a1ac-29660e0eba96",
   "metadata": {},
   "outputs": [
    {
     "name": "stdout",
     "output_type": "stream",
     "text": [
      "3579.13941\n"
     ]
    }
   ],
   "source": [
    "def r_life(n_days=100, n_people=30):  # 生活可能日数を計算する関数\n",
    "    \n",
    "    list_n_grains = [2**i for i in range(0, n_days)]\n",
    "    \n",
    "    list_total_grains = np.cumsum(list_n_grains)\n",
    "    \n",
    "    live_possible_days = list_total_grains[-1] / (10000 * n_people)  # クラスメイトの残存生活可能日数\n",
    "    \n",
    "    return live_possible_days\n",
    "  \n",
    "    pass\n",
    "\n",
    "live_possible_days = r_life(30)\n",
    "\n",
    "print(live_possible_days)"
   ]
  },
  {
   "cell_type": "code",
   "execution_count": null,
   "id": "481e56c0-1373-4fa1-b4bb-b9aea00b5757",
   "metadata": {},
   "outputs": [],
   "source": []
  }
 ],
 "metadata": {
  "kernelspec": {
   "display_name": "Python 3 (ipykernel)",
   "language": "python",
   "name": "python3"
  },
  "language_info": {
   "codemirror_mode": {
    "name": "ipython",
    "version": 3
   },
   "file_extension": ".py",
   "mimetype": "text/x-python",
   "name": "python",
   "nbconvert_exporter": "python",
   "pygments_lexer": "ipython3",
   "version": "3.9.7"
  }
 },
 "nbformat": 4,
 "nbformat_minor": 5
}
