{
 "cells": [
  {
   "cell_type": "code",
   "execution_count": 57,
   "id": "c25b28be-5d8e-4c63-a4e3-040f79a204c7",
   "metadata": {},
   "outputs": [
    {
     "name": "stdout",
     "output_type": "stream",
     "text": [
      "36\n",
      "5497558.13888\n"
     ]
    }
   ],
   "source": [
    "fujisan_h = 3776000\n",
    "count = 0\n",
    "total_kami_t = 0\n",
    "while total_kami_t < fujisan_h:\n",
    "    total_kami_t = 0.00008 * (2 ** count)  # 紙の厚さの初期値：０.０００８m\n",
    "    count += 1\n",
    "    \n",
    "print(count - 1)\n",
    "print(total_kami_t)"
   ]
  },
  {
   "cell_type": "code",
   "execution_count": 24,
   "id": "ccbd9861-3cf4-423c-b6f1-735dc6f5da55",
   "metadata": {},
   "outputs": [
    {
     "data": {
      "text/plain": [
       "69"
      ]
     },
     "execution_count": 24,
     "metadata": {},
     "output_type": "execute_result"
    }
   ],
   "source": [
    "def min_fold_paper(kami_t=0.00008, target=4.1075*10**16):\n",
    "    count = 0\n",
    "    total_kami_t = 0\n",
    "    while total_kami_t < target:\n",
    "        total_kami_t = kami_t * (2 ** count) \n",
    "        count += 1\n",
    "    return count - 1\n",
    "\n",
    "min_fold_paper()\n"
   ]
  },
  {
   "cell_type": "code",
   "execution_count": 56,
   "id": "94840656-9993-405d-9534-7d9c9ebb57d5",
   "metadata": {},
   "outputs": [
    {
     "name": "stdout",
     "output_type": "stream",
     "text": [
      "3.240919444170781e+21\n",
      "1.9781002467719485e+17\n",
      "1.4595803601100348e+37\n"
     ]
    }
   ],
   "source": [
    "import math\n",
    "\n",
    "def paper_length(p_t, k):   #　p_t:紙の暑さ　　k：距離\n",
    "    \n",
    "    def min_fold_paper(p_t, k):\n",
    "        count = 0\n",
    "        total_kami_t = 0\n",
    "        while total_kami_t < k:\n",
    "            total_kami_t = p_t * (2 ** count) \n",
    "            count += 1\n",
    "        return count - 1\n",
    "\n",
    "    n = min_fold_paper(p_t, k)\n",
    "    return (p_t * math.pi) / 6 * (2 ** n + 4) * (2 ** n - 1)\n",
    "\n",
    "moon = paper_length(0.00008, 3.844*10**8)\n",
    "print(moon)  # 月に届くために必要な長さ   \n",
    "\n",
    "fujisan = paper_length(0.00008, 3.776*10**6)\n",
    "print(fujisan)   #富士山に届くために必要な長さ\n",
    "\n",
    "f_star = paper_length(0.00008, 4.1075*10**16)\n",
    "print(f_star)   #太陽以外の地球から一番近い恒星まで届くために必要な長さ"
   ]
  }
 ],
 "metadata": {
  "kernelspec": {
   "display_name": "Python 3 (ipykernel)",
   "language": "python",
   "name": "python3"
  },
  "language_info": {
   "codemirror_mode": {
    "name": "ipython",
    "version": 3
   },
   "file_extension": ".py",
   "mimetype": "text/x-python",
   "name": "python",
   "nbconvert_exporter": "python",
   "pygments_lexer": "ipython3",
   "version": "3.9.7"
  }
 },
 "nbformat": 4,
 "nbformat_minor": 5
}
