{
 "cells": [
  {
   "cell_type": "code",
   "execution_count": 2,
   "id": "0f9b592c-79db-439f-90ea-43f3006b353b",
   "metadata": {
    "tags": []
   },
   "outputs": [
    {
     "data": {
      "text/plain": [
       "array([[ 0,  2,  1],\n",
       "       [ 0,  2, -8],\n",
       "       [ 2,  9, -1]])"
      ]
     },
     "execution_count": 2,
     "metadata": {},
     "output_type": "execute_result"
    }
   ],
   "source": [
    "# 問題１\n",
    "\n",
    "import numpy as np\n",
    "a_ndarray = np.array([[-1, 2, 3], [4, -5, 6], [7, 8, -9]])\n",
    "b_ndarray = np.array([[0, 2, 1], [0, 2, -8], [2, 9, -1]])\n"
   ]
  },
  {
   "cell_type": "markdown",
   "id": "e4398daf-7355-41db-a1c1-4f31efeddb3a",
   "metadata": {},
   "source": [
    "## 行列積の公式より\n",
    "\n",
    "１列目\n",
    "(-1) * 0 + 2 * 0 + 3 * 2 = 6,   4 * 0 + (-5)* 0 + 6 * 2 = 12,   7 * 0 + 8 * 0 + (-9) * 2 = -18  \n",
    "\n",
    "２列目\n",
    "(-1) * 2 + 2 * 2 + 3 * 9　= 29,   4 * 2 + (-5)* 2 + 6 * 9 = 52,   7 * 2 + 8 * 2 + (-9) * 9 = -51  　\n",
    "\n",
    "３列目\n",
    "(-1) * 1 + 2 * (-8) + 3 * (-1) = -20,   4 * 1 + (-5)* (-8) + 6 * (-1) = 38,   7 * 1 + 8 * (-8) + (-9) * (-1) = -48  \n",
    "\n",
    "よって\n",
    "a_ndarray * b_ndarray = np.array([6, 29, -20], [12, 52, 38], [-18, -51, -48])\n"
   ]
  },
  {
   "cell_type": "code",
   "execution_count": 16,
   "id": "c2b74665-7b7d-4c90-88d9-b59100167407",
   "metadata": {},
   "outputs": [
    {
     "data": {
      "text/plain": [
       "array([[  6,  29, -20],\n",
       "       [ 12,  52,  38],\n",
       "       [-18, -51, -48]])"
      ]
     },
     "execution_count": 16,
     "metadata": {},
     "output_type": "execute_result"
    }
   ],
   "source": [
    "# 問題２\n",
    "\n",
    "ab_ndarray = a_ndarray @ b_ndarray\n",
    "ab_ndarray\n"
   ]
  },
  {
   "cell_type": "code",
   "execution_count": 99,
   "id": "f431a99d-a252-4035-98f9-bff5603584d0",
   "metadata": {},
   "outputs": [
    {
     "name": "stdout",
     "output_type": "stream",
     "text": [
      "[[  6.  29. -20.]\n",
      " [ 12.  52.  38.]\n",
      " [-18. -51. -48.]]\n",
      "[[6, 29, -20], [12, 52, 38], [-18, -51, -48]]\n"
     ]
    }
   ],
   "source": [
    "# 問題３\n",
    "\n",
    "a_a = np.array([[-1, 2, 3], [4, -5, 6], [7, 8, -9]])\n",
    "b_b = np.array([[0, 2, 1], [0, 2, -8], [2, 9, -1]])\n",
    "\n",
    "# パターン１\n",
    "x = np.zeros((3, 3))\n",
    "x[0][0] = a_a[0][0] * b_b[0][0] + a_a[0][1] * b_b[1][0] + a_a[0][2] * b_b[2][0]\n",
    "x[0][1] = a_a[0][0] * b_b[0][1] + a_a[0][1] * b_b[1][1] + a_a[0][2] * b_b[2][1]\n",
    "x[0][2] = a_a[0][0] * b_b[0][2] + a_a[0][1] * b_b[1][2] + a_a[0][2] * b_b[2][2]\n",
    "x[1][0] = a_a[1][0] * b_b[0][0] + a_a[1][1] * b_b[1][0] + a_a[1][2] * b_b[2][0]\n",
    "x[1][1] = a_a[1][0] * b_b[0][1] + a_a[1][1] * b_b[1][1] + a_a[1][2] * b_b[2][1]\n",
    "x[1][2] = a_a[1][0] * b_b[0][2] + a_a[1][1] * b_b[1][2] + a_a[1][2] * b_b[2][2]\n",
    "x[2][0] = a_a[2][0] * b_b[0][0] + a_a[2][1] * b_b[1][0] + a_a[2][2] * b_b[2][0]\n",
    "x[2][1] = a_a[2][0] * b_b[0][1] + a_a[2][1] * b_b[1][1] + a_a[2][2] * b_b[2][1]\n",
    "x[2][2] = a_a[2][0] * b_b[0][2] + a_a[2][1] * b_b[1][2] + a_a[2][2] * b_b[2][2]\n",
    "print(x)\n",
    "\n",
    "# パターン２\n",
    "result = []\n",
    "for i, j, k in a_a:\n",
    "    tmp = []\n",
    "    for ii, jj, kk in zip(*b_b):\n",
    "        tmp.append(i * ii + j * jj + k * kk)\n",
    "    result.append(tmp)\n",
    "print(result)\n"
   ]
  },
  {
   "cell_type": "code",
   "execution_count": 22,
   "id": "96a91483-6108-463c-b4ec-d5a1f14900d5",
   "metadata": {},
   "outputs": [
    {
     "data": {
      "text/plain": [
       "[[6, 29, -20], [12, 52, 38], [-18, -51, -48]]"
      ]
     },
     "execution_count": 22,
     "metadata": {},
     "output_type": "execute_result"
    }
   ],
   "source": [
    "#　　問題4\n",
    "\n",
    "def matrix_multiplication(A, B):\n",
    "    a_rows, a_cols = len(A), len(B[0])  # A の行数及び列数\n",
    "    b_rows, b_cols = len(A), len(B[0])  # B の行数及び列数\n",
    "\n",
    "    # (A_rows, B_cols) の0で初期化した行列を作成する。\n",
    "    ret = [[0 for j in range(b_cols)] for i in range(a_rows)]\n",
    "    \n",
    "    for i in range(a_rows):\n",
    "        for j in range(b_cols):\n",
    "            for k in range(a_cols):\n",
    "                ret[i][j] += A[i][k] * B[k][j]\n",
    "\n",
    "    return ret\n",
    "\n",
    "matrix_multiplication(a_ndarray, b_ndarray)\n"
   ]
  },
  {
   "cell_type": "code",
   "execution_count": 101,
   "id": "34166797-2f3c-4069-8a18-52d6e39ad2e4",
   "metadata": {},
   "outputs": [
    {
     "name": "stdout",
     "output_type": "stream",
     "text": [
      "列数と行数が合っていないため行列積の計算はできません！\n"
     ]
    }
   ],
   "source": [
    "# 問題５\n",
    "\n",
    "d_ndarray = np.array([[-1, 2, 3], [4, -5, 6]])\n",
    "e_ndarray = np.array([[-9, 8, 7], [6, -5, 4]])\n",
    "\n",
    "def matrix_multiplication(A, B):\n",
    "    a_rows, a_cols = len(A), len(B[0])  # A の行数及び列数\n",
    "    b_rows, b_cols = len(A), len(B[0])  # B の行数及び列数\n",
    "\n",
    "    if a_cols != b_rows:\n",
    "        print(\"列数と行数が合っていないため行列積の計算はできません！\")\n",
    "        return None\n",
    "\n",
    "    # (A_rows, B_cols) の0で初期化した行列を作成する。\n",
    "    ret = [[0 for j in range(b_cols)] for i in range(a_rows)]\n",
    "    \n",
    "    for i in range(a_rows):\n",
    "        for j in range(b_cols):\n",
    "            for k in range(a_cols):\n",
    "                ret[i][j] += A[i][k] * B[k][j]\n",
    "\n",
    "    return ret\n",
    "\n",
    "matrix_multiplication(d_ndarray, e_ndarray)\n"
   ]
  },
  {
   "cell_type": "code",
   "execution_count": 104,
   "id": "63dd74a8-ec97-4d2b-abdd-8249f5c5aef5",
   "metadata": {},
   "outputs": [
    {
     "data": {
      "text/plain": [
       "[[25, -16], [-76, 49]]"
      ]
     },
     "execution_count": 104,
     "metadata": {},
     "output_type": "execute_result"
    }
   ],
   "source": [
    "# 問題６\n",
    "\n",
    "f_ndarray = np.transpose(e_ndarray)\n",
    "\n",
    "matrix_multiplication(d_ndarray, f_ndarray)"
   ]
  }
 ],
 "metadata": {
  "kernelspec": {
   "display_name": "Python 3 (ipykernel)",
   "language": "python",
   "name": "python3"
  },
  "language_info": {
   "codemirror_mode": {
    "name": "ipython",
    "version": 3
   },
   "file_extension": ".py",
   "mimetype": "text/x-python",
   "name": "python",
   "nbconvert_exporter": "python",
   "pygments_lexer": "ipython3",
   "version": "3.9.7"
  }
 },
 "nbformat": 4,
 "nbformat_minor": 5
}
